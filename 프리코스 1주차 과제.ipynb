{
  "nbformat": 4,
  "nbformat_minor": 0,
  "metadata": {
    "colab": {
      "name": "Untitled0.ipynb",
      "provenance": [],
      "collapsed_sections": [],
      "authorship_tag": "ABX9TyM8Rlqu+IZrsaXSw2P7xDrj",
      "include_colab_link": true
    },
    "kernelspec": {
      "name": "python3",
      "display_name": "Python 3"
    }
  },
  "cells": [
    {
      "cell_type": "markdown",
      "metadata": {
        "id": "view-in-github",
        "colab_type": "text"
      },
      "source": [
        "<a href=\"https://colab.research.google.com/github/pakc918/likelion/blob/master/%ED%94%84%EB%A6%AC%EC%BD%94%EC%8A%A4%201%EC%A3%BC%EC%B0%A8%20%EA%B3%BC%EC%A0%9C.ipynb\" target=\"_parent\"><img src=\"https://colab.research.google.com/assets/colab-badge.svg\" alt=\"Open In Colab\"/></a>"
      ]
    },
    {
      "cell_type": "markdown",
      "metadata": {
        "id": "MwkGVxBO43Xu",
        "colab_type": "text"
      },
      "source": [
        "#프리코스 1주차 과제\n",
        "\n",
        "__1. 언어 서비스__\n",
        ">+ NMT(Neural machine Translation)\n",
        ">> 인공 신경망을 사용하여 전체 문장을 번역하는 기계 번역 방법\n",
        "\n",
        ">+ GNMT(Google Neural machine Translation)\n",
        ">> 구글이 개발하고 인공 신경 네트워크를 사용하여 정확성을 높이는 NMT 시스템\n",
        ">>> 수백만 개의 예제에서 학습하는 예제 기반 기계 번역 방법을 적용하여 번역 품질을 향상. 한번에 하나씩이 아니라 전체 문장을 한 번에 번역 할 수 있습니다.\n",
        "\n",
        "<참조링크>\n",
        "\n",
        "[위키피디아](https://en.wikipedia.org/wiki/Google_Neural_Machine_Translation)\n",
        "\n",
        "[위키피디아](https://en.wikipedia.org/wiki/Neural_machine_translation)\n",
        " \n",
        "\n",
        "__2. 음성 서비스__\n",
        ">* 아마존(Amarzon)사의 에코\n",
        ">> 아마존에서 만든 스피커를 기반으로 한 스마트 홈 음성 서비스를 제공하는 인공지능 디바이스. 알렉사(Alexa)라는 음성 자연어 대화 인터페이스를 이용하여 연계된 사물 인터넷 서비스에 대한 조절과 다양한 외부 서비스 활용을 지원한다.\n",
        "+아마존 탭\n",
        "<에코의 휴대용 버전>\n",
        "+아마존 에코 닷\n",
        "<에코의 가정용 작은 버전>\n",
        "\n",
        "<추가>\n",
        "애플의 시리, 삼성의 빅스비, 네이버 CLOVA Speeach\n",
        "\n",
        "<참조링크>\n",
        "\n",
        "[나무위키](https://namu.wiki/w/%EC%95%84%EB%A7%88%EC%A1%B4%20%EC%97%90%EC%BD%94)\n",
        "\n",
        "__3. 이미지 서비스__\n",
        ">* 오드컨셉사의 PXL\n",
        ">>+ PXL.SEARCH <개인 맞춤형 AI 유사 상품 추천 서비스>\n",
        ">>> 수십억 단위의 상품 데이터를 학습한 AI가 고객 개인의 관심 상품을 분석해 개인 취향을 반영한 상품들을 다양하게 추천해 주는 개인 맞춤형 AI 유사 상품 추천 서비스. 고도화된 AI가 파트너사의 이용자 데이터, 하루 1,300만 개가 넘는 상품 이미지 데티어와 코디 정보 등을 모아 분석하고 합습.\n",
        "\n",
        "<참조링크>\n",
        "\n",
        "[오드컨셉](https://oddconcepts.kr/ko/)\n",
        "\n",
        "[IT CHosun](http://it.chosun.com/site/data/html_dir/2019/12/06/2019120602662.html)\n",
        "\n",
        "__4. 자율주행 서비스__\n",
        ">* 구글(Google)의 웨이모(Waymo)\n",
        ">> 구글의 자유주행차개발업체로 2009년 내부 소규모 프로젝트로 시작된 서비스. 자율주행 자동차의 생산보다는 서비스나 관련 기술을 제공하는 플램폼 구축에 주력을 하고 있다. 현재 최장거리의 시범 운행 거리를 기록 또한 가장 많은 데이터를 보유하고 있는 것으로 평가된다.\n",
        "\n",
        "<참조링크>\n",
        "\n",
        "[소프트웨어정책연구소](https://spri.kr/posts/view/22690?code=industry_trend)\n",
        "\n",
        "[WAYMO 공식사이트](https://waymo.com/intl/es_ALL/)\n",
        "\n",
        "\n"
      ]
    },
    {
      "cell_type": "code",
      "metadata": {
        "id": "y36DpNDP4ckZ",
        "colab_type": "code",
        "colab": {}
      },
      "source": [
        ""
      ],
      "execution_count": 0,
      "outputs": []
    }
  ]
}